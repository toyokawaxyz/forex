{
  "nbformat": 4,
  "nbformat_minor": 0,
  "metadata": {
    "colab": {
      "name": "main.ipynb",
      "provenance": [],
      "mount_file_id": "1jX6Z1yXe_2UGN5uTZkO197nkKZfpqaXL",
      "authorship_tag": "ABX9TyP13oxOGk4gEj3BFbu6ajs4",
      "include_colab_link": true
    },
    "kernelspec": {
      "name": "python3",
      "display_name": "Python 3"
    }
  },
  "cells": [
    {
      "cell_type": "markdown",
      "metadata": {
        "id": "view-in-github",
        "colab_type": "text"
      },
      "source": [
        "<a href=\"https://colab.research.google.com/github/toyokawaxyz/forex/blob/main/main.ipynb\" target=\"_parent\"><img src=\"https://colab.research.google.com/assets/colab-badge.svg\" alt=\"Open In Colab\"/></a>"
      ]
    },
    {
      "cell_type": "code",
      "metadata": {
        "id": "Nk79Kvqz23sB"
      },
      "source": [
        "import  numpy as np\n",
        "import pandas as pd\n",
        "import matplotlib.pyplot as plt\n",
        "from matplotlib import dates as mdates\n",
        "from scipy.stats import norm\n",
        "from sklearn.model_selection import train_test_split,TimeSeriesSplit, GridSearchCV\n",
        "import datetime\n",
        "from sklearn.ensemble import RandomForestRegressor\n",
        "from sklearn.metrics import mean_squared_error\n",
        "import seaborn as sns\n",
        "%matplotlib inline\n",
        "\n"
      ],
      "execution_count": null,
      "outputs": []
    },
    {
      "cell_type": "code",
      "metadata": {
        "id": "efK5KvUn4jgv"
      },
      "source": [
        "df_train = pd.read_csv(\"/content/drive/My Drive/usdjpy2000_2018_all.csv\")\n",
        "df_test= pd.read_csv(\"/content/drive/My Drive/usdjpy2019_all.csv\")\n",
        "ramuda = 0.94\n",
        "a = 0.95"
      ],
      "execution_count": null,
      "outputs": []
    },
    {
      "cell_type": "code",
      "metadata": {
        "id": "LM-c33VBPJtn"
      },
      "source": [
        "#列名の変更（トレインデータ）\n",
        "train_a=df_train.rename(columns={\"USD/JPY High\": \"High\",\"USD/JPY Low\": \"Low\",\"USD/JPY Close\":\"Close\"})\n",
        "train =train_a[6:]\n",
        "#列名の変更（テストデータ）\n",
        "test_a =df_test.rename(columns={\"USD/JPY High\": \"High\",\"USD/JPY Low\": \"Low\",\"USD/JPY Close\":\"Close\"})\n",
        "test =test_a[6:]\n"
      ],
      "execution_count": null,
      "outputs": []
    },
    {
      "cell_type": "code",
      "metadata": {
        "id": "bPeBKndb_x8p",
        "outputId": "2d833195-e7b1-44eb-fe19-e9d6fb8d423e",
        "colab": {
          "base_uri": "https://localhost:8080/"
        }
      },
      "source": [
        "\n",
        "#plot用に年を抽出\n",
        "train[\"year\"] =None\n",
        "test[\"year\"] =None\n",
        "i=0\n",
        "j=0\n",
        "for result in train[\"Results\"]:\n",
        "  tdatetime = datetime.datetime.strptime(result, '%Y-%m-%d')\n",
        "  tdate = datetime.date(tdatetime.year, tdatetime.month, tdatetime.day)\n",
        "  train[\"year\"][i] = tdate.year\n",
        "  i = i+1\n",
        "for result_test in test[\"Results\"]:\n",
        "  tdatetime = datetime.datetime.strptime(result_test, '%Y-%m-%d')\n",
        "  tdate = datetime.date(tdatetime.year, tdatetime.month, tdatetime.day)\n",
        "  test[\"year\"][j] = tdate.year\n",
        "  j = j+1\n",
        "\n",
        "#インデックスの降り直し\n",
        "train.reset_index(inplace=True, drop=True)\n",
        "test.reset_index(inplace=True, drop=True)\n",
        "#データ数値化\n",
        "train[\"High\"] =train[\"High\"].astype(float)\n",
        "train[\"Low\"]=train[\"Low\"].astype(float)\n",
        "train[\"Close\"]=train[\"Close\"].astype(float)\n",
        "\n",
        "test[\"High\"] =test[\"High\"].astype(float)\n",
        "test[\"Low\"]=test[\"Low\"].astype(float)\n",
        "test[\"Close\"]=test[\"Close\"].astype(float)\n",
        "\n",
        "#VaR計算用に終値を代入(t=train data,   k = test data)\n",
        "close_t = train[\"Close\"]\n",
        "close_k = test[\"Close\"]\n",
        "\n",
        "#-------------------------------------------正規化のための計算-----------------\n",
        "# rの算出\n",
        "train[\"r\"] = None\n",
        "for t in range(1,len(close_t)):\n",
        "  train[\"r\"][t] =np.log(close_t[t]/close_t[t-1])\n",
        "#（1）式により出たNoneが含まれている行を除外  つまりは最初の1行を除外\n",
        "train =train.dropna(subset=[\"r\"])\n",
        "\n",
        "r_ = sum(train[\"r\"])/len(train[\"r\"])   #r_の算出(つまりはr_iの平均)\n",
        "#σ^2の算出\n",
        "s2 =sum((train[\"r\"]- r_)**2) /len(train[\"r\"])       \n",
        "train[\"s2\"] =s2\n",
        "# r_t == r_i[-1]\n",
        "train[\"r_t\"] = None\n",
        "r_t= train[\"r\"][-1:]\n",
        "train[\"r_t\"]= train[\"r_t\"].where(train[\"r_t\"]==all, r_t.values)\n",
        "#σ^2（t+1）　＝（1-λ）*r^2 + λ*σ^2\n",
        "train[\"s2_tplus1\"] = (1-ramuda) * train[\"r_t\"]**2  + ramuda*s2 \n",
        "# φ^-1\n",
        "phi_inverse =norm.ppf(a)    \n",
        "var_tplus1 = (train[\"s2_tplus1\"]**0.5)* phi_inverse     #VaR_(t+1) = σ^2_(t+1) * φ^(-1) , α=0.99 \n",
        "train[\"var_tplus1\"]   = var_tplus1\n",
        "#VaR_(t+k) = VaR_(t+1) * √k   /高値 , k= （テストデータの長さ)\n",
        "var_tplusk = (var_tplus1) * (len(test)**0.5) \n",
        "train[\"var_tplusk\"] = var_tplusk\n",
        "\n",
        "#max_(t+k)   = y_t * { 1 + var_(t+k)} \n",
        "y_t= train[\"Close\"][-1:].values\n",
        "max_tplusk = y_t * (1+ var_tplusk)\n",
        "#min_(t+k)\n",
        "min_tplusk = y_t * (1- var_tplusk)\n",
        "train[\"max_tplusk\"] = max_tplusk\n",
        "train[\"min_tplusk\"] = min_tplusk\n",
        "#Max_(global)\n",
        "max_y = max(train[\"High\"])\n",
        "max_var = max(max_tplusk)\n",
        "max_global =max(max_var, max_y)\n",
        "#Min_(global)\n",
        "min_y = min(train[\"Low\"])\n",
        "min_var = min(min_tplusk)\n",
        "min_global= min(min_var, min_y)\n",
        "print(max_global,  min_global)\n",
        "#y'_(i) = {y_(i) - Min_(global)}/{Max_(global) - Min_(global)}\n",
        "y_i_dash = (train[\"Close\"] - min_global)   / (max_global - min_global)   \n",
        "train[\"y_i_dash\"] = y_i_dash\n",
        "#y'_(j) = {y_(j) - Min_(global)}/{Max_(global) - Min_(global)}\n",
        "y_j_dash = (test[\"Close\"] - min_global)   / (max_global - min_global)  \n",
        "test[\"y_j_dash\"] = y_j_dash\n",
        "#------------------------------正規化したデータの訓練etc.------------------------------------------\n",
        "df =pd.DataFrame()\n",
        "df[\"year\"] =pd.concat([train[\"year\"],test[\"year\"]])\n",
        "normalized_tplusk = pd.concat([y_i_dash,y_j_dash])\n",
        "df[\"normalized_tplusk\"] =normalized_tplusk\n",
        "data_train = pd.DataFrame()\n",
        "data_train[\"time\"] = train[\"Results\"]\n",
        "data_train[\"value\"]  = train[\"y_i_dash\"]\n",
        "data_train[\"lag_1\"]  = train[\"y_i_dash\"].shift(1)\n",
        "data_train[\"lag_2\"]  = train[\"y_i_dash\"].shift(2)\n",
        "data_train[\"lag_3\"]  = train[\"y_i_dash\"].shift(3)\n",
        "data_train[\"lag_4\"]  = train[\"y_i_dash\"].shift(4)\n",
        "data_train = data_train.dropna()\n",
        "data_train.reset_index(inplace=True, drop=True)\n",
        "\n",
        "data_test= pd.DataFrame()\n",
        "data_test[\"time\"] = test[\"Results\"]\n",
        "data_test[\"value\"] = test[\"y_j_dash\"]\n",
        "data_test[\"lag_1\"] = test[\"y_j_dash\"].shift(1)\n",
        "data_test[\"lag_2\"] = test[\"y_j_dash\"].shift(2)\n",
        "data_test[\"lag_3\"] = test[\"y_j_dash\"].shift(3)\n",
        "data_test[\"lag_4\"] = test[\"y_j_dash\"].shift(4)\n",
        "data_test = data_test.dropna()\n",
        "data_test.reset_index(inplace=True, drop=True)\n",
        "#-----------------------------------------------------------------------------------\n",
        "#--------train data , test data---------------------------------------------\n",
        "X_train = data_train[[\"lag_1\", \"lag_2\", \"lag_3\", \"lag_4\"]].values\n",
        "y_train =data_train[\"value\"].values\n",
        "\n",
        "X_test =data_test[[\"lag_1\", \"lag_2\", \"lag_3\", \"lag_4\"]].values\n",
        "y_test= data_test[\"value\"].values\n",
        "#-------------------------------------------------------------------------------------\n",
        "\n"
      ],
      "execution_count": null,
      "outputs": [
        {
          "output_type": "stream",
          "text": [
            "/usr/local/lib/python3.6/dist-packages/ipykernel_launcher.py:3: SettingWithCopyWarning: \n",
            "A value is trying to be set on a copy of a slice from a DataFrame.\n",
            "Try using .loc[row_indexer,col_indexer] = value instead\n",
            "\n",
            "See the caveats in the documentation: https://pandas.pydata.org/pandas-docs/stable/user_guide/indexing.html#returning-a-view-versus-a-copy\n",
            "  This is separate from the ipykernel package so we can avoid doing imports until\n",
            "/usr/local/lib/python3.6/dist-packages/ipykernel_launcher.py:4: SettingWithCopyWarning: \n",
            "A value is trying to be set on a copy of a slice from a DataFrame.\n",
            "Try using .loc[row_indexer,col_indexer] = value instead\n",
            "\n",
            "See the caveats in the documentation: https://pandas.pydata.org/pandas-docs/stable/user_guide/indexing.html#returning-a-view-versus-a-copy\n",
            "  after removing the cwd from sys.path.\n",
            "/usr/local/lib/python3.6/dist-packages/pandas/core/indexing.py:670: SettingWithCopyWarning: \n",
            "A value is trying to be set on a copy of a slice from a DataFrame\n",
            "\n",
            "See the caveats in the documentation: https://pandas.pydata.org/pandas-docs/stable/user_guide/indexing.html#returning-a-view-versus-a-copy\n",
            "  iloc._setitem_with_indexer(indexer, value)\n",
            "/usr/local/lib/python3.6/dist-packages/IPython/core/interactiveshell.py:2882: SettingWithCopyWarning: \n",
            "A value is trying to be set on a copy of a slice from a DataFrame\n",
            "\n",
            "See the caveats in the documentation: https://pandas.pydata.org/pandas-docs/stable/user_guide/indexing.html#returning-a-view-versus-a-copy\n",
            "  exec(code_obj, self.user_global_ns, self.user_ns)\n",
            "/usr/local/lib/python3.6/dist-packages/ipykernel_launcher.py:22: SettingWithCopyWarning: \n",
            "A value is trying to be set on a copy of a slice from a DataFrame.\n",
            "Try using .loc[row_indexer,col_indexer] = value instead\n",
            "\n",
            "See the caveats in the documentation: https://pandas.pydata.org/pandas-docs/stable/user_guide/indexing.html#returning-a-view-versus-a-copy\n",
            "/usr/local/lib/python3.6/dist-packages/ipykernel_launcher.py:23: SettingWithCopyWarning: \n",
            "A value is trying to be set on a copy of a slice from a DataFrame.\n",
            "Try using .loc[row_indexer,col_indexer] = value instead\n",
            "\n",
            "See the caveats in the documentation: https://pandas.pydata.org/pandas-docs/stable/user_guide/indexing.html#returning-a-view-versus-a-copy\n",
            "/usr/local/lib/python3.6/dist-packages/ipykernel_launcher.py:24: SettingWithCopyWarning: \n",
            "A value is trying to be set on a copy of a slice from a DataFrame.\n",
            "Try using .loc[row_indexer,col_indexer] = value instead\n",
            "\n",
            "See the caveats in the documentation: https://pandas.pydata.org/pandas-docs/stable/user_guide/indexing.html#returning-a-view-versus-a-copy\n",
            "/usr/local/lib/python3.6/dist-packages/ipykernel_launcher.py:26: SettingWithCopyWarning: \n",
            "A value is trying to be set on a copy of a slice from a DataFrame.\n",
            "Try using .loc[row_indexer,col_indexer] = value instead\n",
            "\n",
            "See the caveats in the documentation: https://pandas.pydata.org/pandas-docs/stable/user_guide/indexing.html#returning-a-view-versus-a-copy\n",
            "/usr/local/lib/python3.6/dist-packages/ipykernel_launcher.py:27: SettingWithCopyWarning: \n",
            "A value is trying to be set on a copy of a slice from a DataFrame.\n",
            "Try using .loc[row_indexer,col_indexer] = value instead\n",
            "\n",
            "See the caveats in the documentation: https://pandas.pydata.org/pandas-docs/stable/user_guide/indexing.html#returning-a-view-versus-a-copy\n",
            "/usr/local/lib/python3.6/dist-packages/ipykernel_launcher.py:28: SettingWithCopyWarning: \n",
            "A value is trying to be set on a copy of a slice from a DataFrame.\n",
            "Try using .loc[row_indexer,col_indexer] = value instead\n",
            "\n",
            "See the caveats in the documentation: https://pandas.pydata.org/pandas-docs/stable/user_guide/indexing.html#returning-a-view-versus-a-copy\n",
            "/usr/local/lib/python3.6/dist-packages/ipykernel_launcher.py:36: SettingWithCopyWarning: \n",
            "A value is trying to be set on a copy of a slice from a DataFrame.\n",
            "Try using .loc[row_indexer,col_indexer] = value instead\n",
            "\n",
            "See the caveats in the documentation: https://pandas.pydata.org/pandas-docs/stable/user_guide/indexing.html#returning-a-view-versus-a-copy\n",
            "/usr/local/lib/python3.6/dist-packages/ipykernel_launcher.py:38: SettingWithCopyWarning: \n",
            "A value is trying to be set on a copy of a slice from a DataFrame\n",
            "\n",
            "See the caveats in the documentation: https://pandas.pydata.org/pandas-docs/stable/user_guide/indexing.html#returning-a-view-versus-a-copy\n"
          ],
          "name": "stderr"
        },
        {
          "output_type": "stream",
          "text": [
            "135.15 75.55\n"
          ],
          "name": "stdout"
        },
        {
          "output_type": "stream",
          "text": [
            "/usr/local/lib/python3.6/dist-packages/ipykernel_launcher.py:81: SettingWithCopyWarning: \n",
            "A value is trying to be set on a copy of a slice from a DataFrame.\n",
            "Try using .loc[row_indexer,col_indexer] = value instead\n",
            "\n",
            "See the caveats in the documentation: https://pandas.pydata.org/pandas-docs/stable/user_guide/indexing.html#returning-a-view-versus-a-copy\n"
          ],
          "name": "stderr"
        }
      ]
    },
    {
      "cell_type": "code",
      "metadata": {
        "id": "tQAww6lGDNsX",
        "outputId": "bdaf346a-0c1f-4703-ee07-569a616e645c",
        "colab": {
          "base_uri": "https://localhost:8080/"
        }
      },
      "source": [
        "#--------------------------------------------------random forest --------------------------------------------------\n",
        "forest = RandomForestRegressor(n_estimators=500, max_depth=4, min_samples_split=2,min_samples_leaf=1,criterion=\"mse\",verbose=1,n_jobs=-1)\n",
        "forest.fit(X_train,y_train)\n",
        "y_train_pred= forest.predict(X_train)\n",
        "y_test_pred = forest.predict(X_test)"
      ],
      "execution_count": null,
      "outputs": [
        {
          "output_type": "stream",
          "text": [
            "[Parallel(n_jobs=-1)]: Using backend ThreadingBackend with 2 concurrent workers.\n",
            "[Parallel(n_jobs=-1)]: Done  46 tasks      | elapsed:    0.2s\n",
            "[Parallel(n_jobs=-1)]: Done 196 tasks      | elapsed:    0.9s\n",
            "[Parallel(n_jobs=-1)]: Done 446 tasks      | elapsed:    2.1s\n",
            "[Parallel(n_jobs=-1)]: Done 500 out of 500 | elapsed:    2.4s finished\n",
            "[Parallel(n_jobs=2)]: Using backend ThreadingBackend with 2 concurrent workers.\n",
            "[Parallel(n_jobs=2)]: Done  46 tasks      | elapsed:    0.0s\n",
            "[Parallel(n_jobs=2)]: Done 196 tasks      | elapsed:    0.0s\n",
            "[Parallel(n_jobs=2)]: Done 446 tasks      | elapsed:    0.1s\n",
            "[Parallel(n_jobs=2)]: Done 500 out of 500 | elapsed:    0.1s finished\n",
            "[Parallel(n_jobs=2)]: Using backend ThreadingBackend with 2 concurrent workers.\n",
            "[Parallel(n_jobs=2)]: Done  46 tasks      | elapsed:    0.0s\n",
            "[Parallel(n_jobs=2)]: Done 196 tasks      | elapsed:    0.0s\n",
            "[Parallel(n_jobs=2)]: Done 446 tasks      | elapsed:    0.1s\n",
            "[Parallel(n_jobs=2)]: Done 500 out of 500 | elapsed:    0.1s finished\n"
          ],
          "name": "stderr"
        }
      ]
    },
    {
      "cell_type": "code",
      "metadata": {
        "id": "TGmRPWnr4mqd",
        "outputId": "4fb6c92a-05fc-4be6-abe4-6a4c86f628bb",
        "colab": {
          "base_uri": "https://localhost:8080/",
          "height": 52
        }
      },
      "source": [
        "\"\"\"forest = RandomForestRegressor(n_estimators=3000, max_depth=None, min_samples_split=2,min_samples_leaf=1,criterion=\"mse\",verbose=1,n_jobs=-1)\n",
        "forest.fit(X_train,y_train)\n",
        "y_train_pred= forest.predict(X_train)\n",
        "y_test_pred = forest.predict(X_test)\"\"\""
      ],
      "execution_count": null,
      "outputs": [
        {
          "output_type": "execute_result",
          "data": {
            "application/vnd.google.colaboratory.intrinsic+json": {
              "type": "string"
            },
            "text/plain": [
              "'forest = RandomForestRegressor(n_estimators=3000, max_depth=None, min_samples_split=2,min_samples_leaf=1,criterion=\"mse\",verbose=1,n_jobs=-1)\\nforest.fit(X_train,y_train)\\ny_train_pred= forest.predict(X_train)\\ny_test_pred = forest.predict(X_test)'"
            ]
          },
          "metadata": {
            "tags": []
          },
          "execution_count": 6
        }
      ]
    },
    {
      "cell_type": "code",
      "metadata": {
        "id": "5GzJA-3rLFRw",
        "outputId": "18e8862d-4eff-46bb-ca51-62a84ab7e9a7",
        "colab": {
          "base_uri": "https://localhost:8080/",
          "height": 402
        }
      },
      "source": [
        "close= pd.DataFrame()\n",
        "close[\"time\"]=test[\"Results\"][4:]\n",
        "close[\"close\"] =test[\"Close\"][4:]\n",
        "\n",
        "close"
      ],
      "execution_count": null,
      "outputs": [
        {
          "output_type": "execute_result",
          "data": {
            "text/html": [
              "<div>\n",
              "<style scoped>\n",
              "    .dataframe tbody tr th:only-of-type {\n",
              "        vertical-align: middle;\n",
              "    }\n",
              "\n",
              "    .dataframe tbody tr th {\n",
              "        vertical-align: top;\n",
              "    }\n",
              "\n",
              "    .dataframe thead th {\n",
              "        text-align: right;\n",
              "    }\n",
              "</style>\n",
              "<table border=\"1\" class=\"dataframe\">\n",
              "  <thead>\n",
              "    <tr style=\"text-align: right;\">\n",
              "      <th></th>\n",
              "      <th>time</th>\n",
              "      <th>close</th>\n",
              "    </tr>\n",
              "  </thead>\n",
              "  <tbody>\n",
              "    <tr>\n",
              "      <th>4</th>\n",
              "      <td>2019-01-07</td>\n",
              "      <td>108.64</td>\n",
              "    </tr>\n",
              "    <tr>\n",
              "      <th>5</th>\n",
              "      <td>2019-01-08</td>\n",
              "      <td>108.65</td>\n",
              "    </tr>\n",
              "    <tr>\n",
              "      <th>6</th>\n",
              "      <td>2019-01-09</td>\n",
              "      <td>108.28</td>\n",
              "    </tr>\n",
              "    <tr>\n",
              "      <th>7</th>\n",
              "      <td>2019-01-10</td>\n",
              "      <td>108.41</td>\n",
              "    </tr>\n",
              "    <tr>\n",
              "      <th>8</th>\n",
              "      <td>2019-01-11</td>\n",
              "      <td>108.49</td>\n",
              "    </tr>\n",
              "    <tr>\n",
              "      <th>...</th>\n",
              "      <td>...</td>\n",
              "      <td>...</td>\n",
              "    </tr>\n",
              "    <tr>\n",
              "      <th>256</th>\n",
              "      <td>2019-12-25</td>\n",
              "      <td>109.55</td>\n",
              "    </tr>\n",
              "    <tr>\n",
              "      <th>257</th>\n",
              "      <td>2019-12-26</td>\n",
              "      <td>109.62</td>\n",
              "    </tr>\n",
              "    <tr>\n",
              "      <th>258</th>\n",
              "      <td>2019-12-27</td>\n",
              "      <td>109.45</td>\n",
              "    </tr>\n",
              "    <tr>\n",
              "      <th>259</th>\n",
              "      <td>2019-12-30</td>\n",
              "      <td>108.83</td>\n",
              "    </tr>\n",
              "    <tr>\n",
              "      <th>260</th>\n",
              "      <td>2019-12-31</td>\n",
              "      <td>108.62</td>\n",
              "    </tr>\n",
              "  </tbody>\n",
              "</table>\n",
              "<p>257 rows × 2 columns</p>\n",
              "</div>"
            ],
            "text/plain": [
              "           time   close\n",
              "4    2019-01-07  108.64\n",
              "5    2019-01-08  108.65\n",
              "6    2019-01-09  108.28\n",
              "7    2019-01-10  108.41\n",
              "8    2019-01-11  108.49\n",
              "..          ...     ...\n",
              "256  2019-12-25  109.55\n",
              "257  2019-12-26  109.62\n",
              "258  2019-12-27  109.45\n",
              "259  2019-12-30  108.83\n",
              "260  2019-12-31  108.62\n",
              "\n",
              "[257 rows x 2 columns]"
            ]
          },
          "metadata": {
            "tags": []
          },
          "execution_count": 7
        }
      ]
    },
    {
      "cell_type": "code",
      "metadata": {
        "id": "7_ohP0v-PXTI",
        "outputId": "2d5ddbdb-29f7-496c-e5aa-7f90c02e51ad",
        "colab": {
          "base_uri": "https://localhost:8080/"
        }
      },
      "source": [
        "len(y_test)"
      ],
      "execution_count": null,
      "outputs": [
        {
          "output_type": "execute_result",
          "data": {
            "text/plain": [
              "257"
            ]
          },
          "metadata": {
            "tags": []
          },
          "execution_count": 8
        }
      ]
    },
    {
      "cell_type": "code",
      "metadata": {
        "id": "5byAyjftPxQ-",
        "outputId": "c92e8b63-70ad-4510-8fe4-8620ec4e105b",
        "colab": {
          "base_uri": "https://localhost:8080/"
        }
      },
      "source": [
        "a = pd.DataFrame()\n",
        "a[\"pred\"] = forest.predict(X_test)\n",
        "mse = format(mean_squared_error(y_test,y_test_pred), \".10f\")\n",
        "print(mse)"
      ],
      "execution_count": null,
      "outputs": [
        {
          "output_type": "stream",
          "text": [
            "[Parallel(n_jobs=2)]: Using backend ThreadingBackend with 2 concurrent workers.\n",
            "[Parallel(n_jobs=2)]: Done  46 tasks      | elapsed:    0.0s\n",
            "[Parallel(n_jobs=2)]: Done 196 tasks      | elapsed:    0.1s\n",
            "[Parallel(n_jobs=2)]: Done 446 tasks      | elapsed:    0.1s\n",
            "[Parallel(n_jobs=2)]: Done 500 out of 500 | elapsed:    0.1s finished\n"
          ],
          "name": "stderr"
        },
        {
          "output_type": "stream",
          "text": [
            "0.0001452898\n"
          ],
          "name": "stdout"
        }
      ]
    },
    {
      "cell_type": "code",
      "metadata": {
        "id": "P-lV0icXZN-B",
        "outputId": "a4aeeb3f-ffb2-422b-a804-1ce785591942",
        "colab": {
          "base_uri": "https://localhost:8080/",
          "height": 52
        }
      },
      "source": [
        "\"\"\"param_grid = {\"n_estimators\":[500,1000,2000,3000],'max_depth': [2,5,8],'min_samples_leaf': [2,5,8],'min_samples_split': [2,5,8]}\n",
        "\n",
        "forest = RandomForestRegressor()\n",
        "grid_search = GridSearchCV(RandomForestRegressor(), param_grid, iid=True, cv=5, return_train_score=True,verbose=1,n_jobs=-1)\n",
        "\n",
        "grid_search.fit(X_train, y_train)   \"\"\""
      ],
      "execution_count": null,
      "outputs": [
        {
          "output_type": "execute_result",
          "data": {
            "application/vnd.google.colaboratory.intrinsic+json": {
              "type": "string"
            },
            "text/plain": [
              "'param_grid = {\"n_estimators\":[500,1000,2000,3000],\\'max_depth\\': [2,5,8],\\'min_samples_leaf\\': [2,5,8],\\'min_samples_split\\': [2,5,8]}\\n\\nforest = RandomForestRegressor()\\ngrid_search = GridSearchCV(RandomForestRegressor(), param_grid, iid=True, cv=5, return_train_score=True,verbose=1,n_jobs=-1)\\n\\ngrid_search.fit(X_train, y_train)   '"
            ]
          },
          "metadata": {
            "tags": []
          },
          "execution_count": 10
        }
      ]
    },
    {
      "cell_type": "code",
      "metadata": {
        "id": "wQBrSPlWNZom",
        "outputId": "5fd2a8be-239f-41be-d545-67750124f4ee",
        "colab": {
          "base_uri": "https://localhost:8080/",
          "height": 52
        }
      },
      "source": [
        "\"\"\"cv_result = pd.DataFrame(grid_search.cv_results_)\n",
        "cv_result = cv_result[['param_max_depth', 'param_min_samples_leaf', 'mean_test_score']]\n",
        "cv_result_pivot = cv_result.pivot_table('mean_test_score', 'param_max_depth', 'param_min_samples_leaf')\n",
        "\n",
        "heat_map = sns.heatmap(cv_result_pivot, cmap='Greys', annot=True);\"\"\""
      ],
      "execution_count": null,
      "outputs": [
        {
          "output_type": "execute_result",
          "data": {
            "application/vnd.google.colaboratory.intrinsic+json": {
              "type": "string"
            },
            "text/plain": [
              "\"cv_result = pd.DataFrame(grid_search.cv_results_)\\ncv_result = cv_result[['param_max_depth', 'param_min_samples_leaf', 'mean_test_score']]\\ncv_result_pivot = cv_result.pivot_table('mean_test_score', 'param_max_depth', 'param_min_samples_leaf')\\n\\nheat_map = sns.heatmap(cv_result_pivot, cmap='Greys', annot=True);\""
            ]
          },
          "metadata": {
            "tags": []
          },
          "execution_count": 11
        }
      ]
    },
    {
      "cell_type": "code",
      "metadata": {
        "id": "b--PbIq5WS7J",
        "outputId": "e122db34-43f5-41ce-9362-a6f22c4937ef",
        "colab": {
          "base_uri": "https://localhost:8080/",
          "height": 282
        }
      },
      "source": [
        "plt.plot(y_test_pred)"
      ],
      "execution_count": null,
      "outputs": [
        {
          "output_type": "execute_result",
          "data": {
            "text/plain": [
              "[<matplotlib.lines.Line2D at 0x7fe0f30fe390>]"
            ]
          },
          "metadata": {
            "tags": []
          },
          "execution_count": 12
        },
        {
          "output_type": "display_data",
          "data": {
            "image/png": "[encoded data removed]",
            "text/plain": [
              "<Figure size 432x288 with 1 Axes>"
            ]
          },
          "metadata": {
            "tags": [],
            "needs_background": "light"
          }
        }
      ]
    },
    {
      "cell_type": "code",
      "metadata": {
        "id": "Bij-YoifNxDa"
      },
      "source": [
        "#正規化されている予測データを戻す(テストデータ)\n",
        "y_j = min_global + y_test_pred * (max_global -min_global) "
      ],
      "execution_count": null,
      "outputs": []
    },
    {
      "cell_type": "code",
      "metadata": {
        "id": "DpK7pBu34LVm"
      },
      "source": [
        ""
      ],
      "execution_count": null,
      "outputs": []
    },
    {
      "cell_type": "code",
      "metadata": {
        "id": "Yh-c1HPqJupT"
      },
      "source": [
        ""
      ],
      "execution_count": null,
      "outputs": []
    },
    {
      "cell_type": "code",
      "metadata": {
        "id": "Afm6uOvsJ74c",
        "outputId": "5660abb7-10a1-4368-faa8-a5e6f8d790ef",
        "colab": {
          "base_uri": "https://localhost:8080/"
        }
      },
      "source": [
        "len(close), len(y_j)"
      ],
      "execution_count": null,
      "outputs": [
        {
          "output_type": "execute_result",
          "data": {
            "text/plain": [
              "(257, 257)"
            ]
          },
          "metadata": {
            "tags": []
          },
          "execution_count": 14
        }
      ]
    },
    {
      "cell_type": "code",
      "metadata": {
        "id": "thUsl4DrKP81",
        "outputId": "f4ac7ec5-a6e3-403a-f206-873bd0f28b6b",
        "colab": {
          "base_uri": "https://localhost:8080/",
          "height": 282
        }
      },
      "source": [
        "plt.plot(close[\"close\"],label=\"actual\")\n",
        "plt.plot(y_j,label=\"predict\")\n",
        "plt.legend()"
      ],
      "execution_count": null,
      "outputs": [
        {
          "output_type": "execute_result",
          "data": {
            "text/plain": [
              "<matplotlib.legend.Legend at 0x7fe0f2c30240>"
            ]
          },
          "metadata": {
            "tags": []
          },
          "execution_count": 15
        },
        {
          "output_type": "display_data",
          "data": {
            "image/png": "[encoded data removed]",
            "text/plain": [
              "<Figure size 432x288 with 1 Axes>"
            ]
          },
          "metadata": {
            "tags": [],
            "needs_background": "light"
          }
        }
      ]
    },
    {
      "cell_type": "code",
      "metadata": {
        "id": "iCXwTDIkOl4U",
        "outputId": "7df65d00-3b39-456a-b05d-49986aa6901f",
        "colab": {
          "base_uri": "https://localhost:8080/"
        }
      },
      "source": [
        "renorm_mae = format(mean_squared_error(close[\"close\"],y_j), \".10f\")\n",
        "print(renorm_mae)"
      ],
      "execution_count": null,
      "outputs": [
        {
          "output_type": "stream",
          "text": [
            "0.5160925065\n"
          ],
          "name": "stdout"
        }
      ]
    },
    {
      "cell_type": "code",
      "metadata": {
        "id": "4hWeOvnfP8uF",
        "outputId": "77d2cfb3-a543-4f78-aad6-b2b4aba434e2",
        "colab": {
          "base_uri": "https://localhost:8080/",
          "height": 402
        }
      },
      "source": [
        "data = pd.concat([df_train,df_test])\n",
        "df_train"
      ],
      "execution_count": null,
      "outputs": [
        {
          "output_type": "execute_result",
          "data": {
            "text/html": [
              "<div>\n",
              "<style scoped>\n",
              "    .dataframe tbody tr th:only-of-type {\n",
              "        vertical-align: middle;\n",
              "    }\n",
              "\n",
              "    .dataframe tbody tr th {\n",
              "        vertical-align: top;\n",
              "    }\n",
              "\n",
              "    .dataframe thead th {\n",
              "        text-align: right;\n",
              "    }\n",
              "</style>\n",
              "<table border=\"1\" class=\"dataframe\">\n",
              "  <thead>\n",
              "    <tr style=\"text-align: right;\">\n",
              "      <th></th>\n",
              "      <th>Results</th>\n",
              "      <th>USD/JPY Close</th>\n",
              "      <th>USD/JPY High</th>\n",
              "      <th>USD/JPY Low</th>\n",
              "    </tr>\n",
              "  </thead>\n",
              "  <tbody>\n",
              "    <tr>\n",
              "      <th>0</th>\n",
              "      <td>Average</td>\n",
              "      <td>106.462</td>\n",
              "      <td>106.935</td>\n",
              "      <td>105.964</td>\n",
              "    </tr>\n",
              "    <tr>\n",
              "      <th>1</th>\n",
              "      <td>Minimum</td>\n",
              "      <td>75.720</td>\n",
              "      <td>76.000</td>\n",
              "      <td>75.550</td>\n",
              "    </tr>\n",
              "    <tr>\n",
              "      <th>2</th>\n",
              "      <td>Maximum</td>\n",
              "      <td>134.780</td>\n",
              "      <td>135.150</td>\n",
              "      <td>134.100</td>\n",
              "    </tr>\n",
              "    <tr>\n",
              "      <th>3</th>\n",
              "      <td>Std</td>\n",
              "      <td>13.543</td>\n",
              "      <td>13.574</td>\n",
              "      <td>13.505</td>\n",
              "    </tr>\n",
              "    <tr>\n",
              "      <th>4</th>\n",
              "      <td># In Calc</td>\n",
              "      <td>4956</td>\n",
              "      <td>4956</td>\n",
              "      <td>4956</td>\n",
              "    </tr>\n",
              "    <tr>\n",
              "      <th>...</th>\n",
              "      <td>...</td>\n",
              "      <td>...</td>\n",
              "      <td>...</td>\n",
              "      <td>...</td>\n",
              "    </tr>\n",
              "    <tr>\n",
              "      <th>4957</th>\n",
              "      <td>2018-12-25</td>\n",
              "      <td>110.25</td>\n",
              "      <td>110.47</td>\n",
              "      <td>110.01</td>\n",
              "    </tr>\n",
              "    <tr>\n",
              "      <th>4958</th>\n",
              "      <td>2018-12-26</td>\n",
              "      <td>111.17</td>\n",
              "      <td>111.19</td>\n",
              "      <td>110.14</td>\n",
              "    </tr>\n",
              "    <tr>\n",
              "      <th>4959</th>\n",
              "      <td>2018-12-27</td>\n",
              "      <td>110.71</td>\n",
              "      <td>111.37</td>\n",
              "      <td>110.46</td>\n",
              "    </tr>\n",
              "    <tr>\n",
              "      <th>4960</th>\n",
              "      <td>2018-12-28</td>\n",
              "      <td>110.39</td>\n",
              "      <td>111.03</td>\n",
              "      <td>110.22</td>\n",
              "    </tr>\n",
              "    <tr>\n",
              "      <th>4961</th>\n",
              "      <td>2018-12-31</td>\n",
              "      <td>109.59</td>\n",
              "      <td>110.48</td>\n",
              "      <td>109.55</td>\n",
              "    </tr>\n",
              "  </tbody>\n",
              "</table>\n",
              "<p>4962 rows × 4 columns</p>\n",
              "</div>"
            ],
            "text/plain": [
              "         Results USD/JPY Close USD/JPY High USD/JPY Low\n",
              "0        Average       106.462      106.935     105.964\n",
              "1        Minimum        75.720       76.000      75.550\n",
              "2        Maximum       134.780      135.150     134.100\n",
              "3            Std        13.543       13.574      13.505\n",
              "4      # In Calc          4956         4956        4956\n",
              "...          ...           ...          ...         ...\n",
              "4957  2018-12-25        110.25       110.47      110.01\n",
              "4958  2018-12-26        111.17       111.19      110.14\n",
              "4959  2018-12-27        110.71       111.37      110.46\n",
              "4960  2018-12-28        110.39       111.03      110.22\n",
              "4961  2018-12-31        109.59       110.48      109.55\n",
              "\n",
              "[4962 rows x 4 columns]"
            ]
          },
          "metadata": {
            "tags": []
          },
          "execution_count": 17
        }
      ]
    },
    {
      "cell_type": "code",
      "metadata": {
        "id": "ZyDITTisFcIE",
        "outputId": "24683723-a081-4f4c-f0fa-abb98b2c812b",
        "colab": {
          "base_uri": "https://localhost:8080/"
        }
      },
      "source": [
        "len(X_train),len(X_test)"
      ],
      "execution_count": null,
      "outputs": [
        {
          "output_type": "execute_result",
          "data": {
            "text/plain": [
              "(4951, 257)"
            ]
          },
          "metadata": {
            "tags": []
          },
          "execution_count": 23
        }
      ]
    },
    {
      "cell_type": "code",
      "metadata": {
        "id": "KQGkz5zFGq8o"
      },
      "source": [
        ""
      ],
      "execution_count": null,
      "outputs": []
    }
  ]
}